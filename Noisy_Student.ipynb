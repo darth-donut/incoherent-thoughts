{
  "nbformat": 4,
  "nbformat_minor": 0,
  "metadata": {
    "colab": {
      "name": "Noisy Student.ipynb",
      "provenance": [],
      "collapsed_sections": [],
      "authorship_tag": "ABX9TyN4+guR6FNEwwvNE19+28sO",
      "include_colab_link": true
    },
    "kernelspec": {
      "name": "python3",
      "display_name": "Python 3"
    }
  },
  "cells": [
    {
      "cell_type": "markdown",
      "metadata": {
        "id": "view-in-github",
        "colab_type": "text"
      },
      "source": [
        "<a href=\"https://colab.research.google.com/github/jiahfong/incoherent-thoughts/blob/develop/Noisy_Student.ipynb\" target=\"_parent\"><img src=\"https://colab.research.google.com/assets/colab-badge.svg\" alt=\"Open In Colab\"/></a>"
      ]
    },
    {
      "cell_type": "markdown",
      "metadata": {
        "id": "ohr496Mscya5",
        "colab_type": "text"
      },
      "source": [
        "# Self-training with Noisy student"
      ]
    },
    {
      "cell_type": "markdown",
      "metadata": {
        "id": "mZS7wwbJdtRZ",
        "colab_type": "text"
      },
      "source": [
        "## Abstract\n",
        "Bootstrap self-learning by (soft/hard)pseudo-labelling unlabelled images with a teacher network initially trained on ImageNet and train a noisy student (with equal or greater capacity than the teacher) on the combination of labelled and unlabelled datasets. This student is expected to be better than the teacher network due to noise and higher representational capacity. This student network is then the next teacher network and the process repeats. The resulting network yields higher accuracy and also better robustness to perturbations in the images (noise, occlusion, etc.)."
      ]
    },
    {
      "cell_type": "markdown",
      "metadata": {
        "id": "bWwxPJRXd1Tt",
        "colab_type": "text"
      },
      "source": [
        "## Introduction\n",
        "\n",
        "An important element of this method is that the student must be noised (to be as robust as possible) and the teacher should not (to be as accurate as possible)\n",
        "Noising implemented with RandAugment, dropout, and stochastic depth\n",
        "\n",
        "> Idea: consider other kinds of stochasticity for noise generation?\n"
      ]
    },
    {
      "cell_type": "markdown",
      "metadata": {
        "id": "nr7HVoKXd6om",
        "colab_type": "text"
      },
      "source": [
        "## Self-training with Noisy Student\n",
        "\n",
        "Teacher model minimises cross-entropy loss on labelled dataset\n",
        "Un-noised teacher model generates soft/hard pseudo labels (hard = one-hot; soft = softmax/continuous distribution of class labels)\n",
        "Student model minimises the CE loss on both labelled and pseudo labelled images\n",
        "Student becomes teacher and repeats this process (step 2 onwards)\n",
        "\n",
        "The difference with _KnowlegeDistillation_: Emphasis on the importance of having a noised student and a student with higher representational capacity\n",
        "\n",
        "Additional techniques:\n",
        "\n",
        "* __Data filtering__ - filter images where the teacher has low confidence in (probably out-of-domain images)\n",
        "* __Class balancing__ - balance the number of unlabelled images for each class by duplicating images in classes where there aren’t enough and taking the most confident predictions when the class is in abundance. (Benefits of class balancing more pronounced in smaller models)\n",
        "Soft and hard pseudo labels work well, soft is slightly better for out-of-domain unlabelled data.\n"
      ]
    },
    {
      "cell_type": "markdown",
      "metadata": {
        "id": "TzjDVFK7d8aT",
        "colab_type": "text"
      },
      "source": [
        "## Experiments"
      ]
    },
    {
      "cell_type": "markdown",
      "metadata": {
        "id": "JAXxRs0Od-mm",
        "colab_type": "text"
      },
      "source": [
        "## Ablation study"
      ]
    },
    {
      "cell_type": "markdown",
      "metadata": {
        "id": "3ctBzq4SeAXJ",
        "colab_type": "text"
      },
      "source": [
        "## Related works"
      ]
    }
  ]
}