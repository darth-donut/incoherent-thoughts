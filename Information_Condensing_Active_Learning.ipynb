{
  "nbformat": 4,
  "nbformat_minor": 0,
  "metadata": {
    "colab": {
      "name": "Information Condensing Active Learning.ipynb",
      "provenance": [],
      "collapsed_sections": [],
      "authorship_tag": "ABX9TyMAIg/y8oH3J51p3meFBdgU",
      "include_colab_link": true
    },
    "kernelspec": {
      "name": "python3",
      "display_name": "Python 3"
    },
    "accelerator": "GPU"
  },
  "cells": [
    {
      "cell_type": "markdown",
      "metadata": {
        "id": "view-in-github",
        "colab_type": "text"
      },
      "source": [
        "<a href=\"https://colab.research.google.com/github/jiahfong/incoherent-thoughts/blob/develop/Information_Condensing_Active_Learning.ipynb\" target=\"_parent\"><img src=\"https://colab.research.google.com/assets/colab-badge.svg\" alt=\"Open In Colab\"/></a>"
      ]
    },
    {
      "cell_type": "markdown",
      "metadata": {
        "id": "lBNqD0KJLGFT",
        "colab_type": "text"
      },
      "source": [
        "# Information Condensing Active Learning"
      ]
    },
    {
      "cell_type": "markdown",
      "metadata": {
        "id": "Ctc_LknFLJYR",
        "colab_type": "text"
      },
      "source": [
        "# Introduction\n",
        "\n",
        "Acquisition functions usually use model predictions/point locations (i.e. input features or learned representation space) to decide which points will improve model accuracy.\n",
        "> IDEA: does latent disentanglement + distance metric work well? Find latent representations with greatest distance according to some distance metric\n",
        "\n",
        "**GOAL**: develop and active learning acquisition function to select points that maximise the _eventual test accuracy_. This minimises the uncertainty on the unlabelled set.\n",
        "> Conspicuously did not mention the speed at which it reaches the desired test accuracy?\n",
        "\n",
        "* Selecting points that maximise MI between model params and labels doesn’t always minimise the model’s uncertainty on the unlabelled pool. Paper will demonstrate this point\n",
        "* Instead, ICAL searches for the batch that maximises statistical dependency between the model’s predictions on the batch (B) and the model’s predictions on the unlabelled pool (instead of model params).\n",
        "* Greedy algorithm employed to search for such a batch B (cf. feature selection)\n",
        "* HSIC instead of MI as MI is hard to approximate using just samples (Song & Ernon 2019)\n",
        "* HSIC is also differentiable, applicable in areas where MI would be difficult to make work."
      ]
    },
    {
      "cell_type": "markdown",
      "metadata": {
        "id": "074n-WY3LdI6",
        "colab_type": "text"
      },
      "source": [
        "# Related work\n",
        "\n",
        "## Bayesian active learning by disagreement (BALD)\n",
        "MI between unlabelled labels and model parameters. Turns out to be the points where the models are individually confident but are disagreeing with one another.\n",
        "\n",
        "## Guo & Schuurmans (2008)\n",
        "Find a batch such that the post-acquisition model is confident on the training set and has low uncertainty on the unlabelled dataset. This implies retraining the model for every candidate batch (read: exponential!) and is infeasible for large neural nets (method was mainly used for logistic regression)\n",
        "\n",
        "## BMDR\n",
        "Selects points that are close to the decision boundary while maintaining the overall sample distribution. The overall sample distribution is measured using maximum mean discrepancy (MMD) on *input features* between candidate batch and the set of all points (low MMD implies more representative batch). This method requires a decision boundary to work.\n",
        "\n",
        "## BMAL\n",
        "Selects a batch such that the Fisher information matrix between the batch and the\n",
        "unlabelled pool is as close as possible. Note, this matrix is quadratic in the number of parameters, thus infeasible for NNs.\n",
        "\n",
        "## Filtered Active Subset Selection\n",
        "1. Pick a subset of points $\\mathcal{B'}$ from the unlabelled pool where the model is most uncertain. Uncertainty is quantified using entropy in this case: $H(y|x, D_{train})$. Recall, entropy is low if the models are disagreeing with each other (first term in BALD).\n",
        "2. Select a subset of points in `1.` that are representative as a whole (similar to ICAL in this regard) which favours points that can represent diversity of the set in `1.`. In other words, find $\\mathcal{B}$ such that $f(\\mathcal{B}) = \\displaystyle\\sum_{y\\in\\mathcal{Y}}\\displaystyle\\sum_{i\\in V^y}\\text{max}_{s\\in \\mathcal{B} \\cap V^y}w(i, s)$ where:\n",
        "    - $V^y$ is the set of points in $\\mathcal{B'}$ that has predicted label $y$. ($V^y \\subseteq \\mathcal{B}'$)\n",
        "    - $w(i, s)$ is a similarity function (e.g. $w(i, s) = d - ||x_i - x_s||^2_2$ where $d$ is the maximum possible distance between any two points)\n",
        "\n",
        "\n",
        "## BatchBALD\n",
        "Extending BALD to account for acquisition size of > 1. Eliminates overcounting in BALD when candidate batch size is > 1.\n",
        "\n",
        "## Bayesian Batch Active Learning as Sparse Subset Approximation\n",
        "Adapts Bayesian Coreset approach. This approach changes the batch size for every acquisition.\n",
        "\n",
        "## DeepFool\n",
        "Uses the concept of advesarial examples to find points close to the decision boundary.\n",
        "The distance between an example and one of its adversarial examples is used as an approximation of its distance to the current decision boundary (presumably a proportional relationship?). This approach mitigates the need to have an explicit decision boundary.\n",
        "\n",
        "\n",
        "\n",
        "## Others\n",
        "1. Sener & Savarese (2017) and FF-Comp (Geifman & El-Yaniv, 2017) frames the problem as a core-set selection problem\n",
        "2. Discriminative Active Learning [DAL](https://openreview.net/pdf?id=rJl-HsR9KX) trains a classifier to distinguish between labelled and unlabelled. If the classifier is confident that the datapoint is unlabelled, then intuitively these points are most unlike the labelled points and thus should be informative.\n",
        "3. [BADGE](https://arxiv.org/pdf/1906.03671.pdf) samples points which are high in magnitude and diverse in a hallucinated gradient space w.r.t. the last layer of a NN.\n",
        "\n",
        "These methods are not model agnostic as the require access to learnt representational space.\n",
        "\n",
        "TODO: find out how these methods work (esp. about learnt representational spaces)\n"
      ]
    },
    {
      "cell_type": "markdown",
      "metadata": {
        "id": "UtvVGYSLZRYO",
        "colab_type": "text"
      },
      "source": [
        "# Background\n",
        "\n",
        "The paper defines *dependency* $\\delta$ between a set of random variables $X_{1:n}$ as follows:\n",
        "\n",
        "$$\n",
        "\\delta(X_{1:n}) = \\Lambda(P_{1:n}, \\otimes_iP_i)\n",
        "$$\n",
        "\n",
        "where:\n",
        "\n",
        "1. $P_{1:n}$ is the joint distribution of $X_{1:n}$\n",
        "2. $\\otimes_i P_i$ the product of marginals\n",
        "3. $\\Lambda$ a divergence function. If $\\Lambda$ is KL divergence, then we get MI as the dependency measure ($\\mathbb{I}[X, Y] = D_{KL}(P(x, y)\\ ||\\ P(x) P(y))$); if it was maximum mean discrepency (MMD), then the dependency measure is known as **Hilbert-Schmidt Independence Criterion** (HSIC).\n",
        "\n",
        "To extend two-variable HSIC to arbitiarily many variables, the authors used [_dHISC_](https://arxiv.org/pdf/1603.00285.pdf)"
      ]
    },
    {
      "cell_type": "markdown",
      "metadata": {
        "id": "0X46uE2TGWzX",
        "colab_type": "text"
      },
      "source": [
        "# Motivation\n",
        "\n",
        "\n",
        "The upshot of this section is that picking the points with the most amount of information w.r.t. __model parameters__, for example BALD, could in fact increase the uncertainty of prediction on unlabelled data. The paper gave a toy example to demonstrate this and suggests picking points with the most amount of information w.r.t. model's predictions on the __unlabelled points__."
      ]
    },
    {
      "cell_type": "markdown",
      "metadata": {
        "id": "Xq65CwaIK6vQ",
        "colab_type": "text"
      },
      "source": [
        "# Information Condensing Active Learning (ICAL)\n",
        "\n",
        "## Acquisition function\n",
        "\n",
        "The authors defined the acquisition function as follows:\n",
        "$$\n",
        "\\alpha_{ICAL}(\\{x_1, \\dots, x_B\\}, \\delta) = \\frac{1}{|\\mathcal{D}_U|}\\displaystyle\\sum_{x'\\in\\mathcal{D}_U} \\delta(y_{x'}, \\{y_{x_1}, \\dots, y_{x_B}\\})\n",
        "$$\n",
        "\n",
        "where $\\mathcal{D}_U$ is the unlabelled pool and $\\delta$ the dependency measure. (see above). \n",
        "\n",
        "\n",
        "\n",
        "## 1. Scaling ICAL\n",
        "\n",
        "There are two types of ICAL introduced: normal ICAL and ICAL-pointwise. Theorem 2 showed that we could simplify the acquistion function above to:\n",
        "\n",
        "$$\\frac{1}{|\\mathcal{D}_U|}\\displaystyle\\sum_{x'\\in\\mathcal{D}_U} dHSIC(k^{x'}, \\{k^{x_1}, \\dots, k^{x_B}\\}) = \\frac{1}{|\\mathcal{D}_U|} dHSIC(\\displaystyle\\sum_{x'\\in\\mathcal{D}_U} k^{x'}, \\{k^{x_1}, \\dots, k^{x_B}\\})\n",
        "$$\n",
        "\n",
        "However, if the number of MC dropout samples $m$ is $<2D$ where $D$ is the number of variables in _d_HSIC, then _d_HSIC = 0 (see [Pfister et al.](https://arxiv.org/pdf/1603.00285.pd)). Hence, as B grows, there is a need to increase the number of MC dropout samples $m$. The paper suggests 2 strategies to circumvent this whilst still maintaining batch diversity: normal ICAL and ICAL-pointwise.\n",
        "\n",
        "### 1.1 Normal ICAL\n",
        "The kernel matrices of the candidate batch, $k^{x_1}, \\dots, k^{x_B}$, are averaged. Furthermore, instead of taking the sum of kernels over the entire $\\mathcal{D}_U$, $r$ points are subsampled from $\\mathcal{D}_U$ instead. In all their experiments, $r = |\\mathcal{R}| = 200$. In other words:\n",
        "\n",
        "$$\\frac{1}{|\\mathcal{R}|} dHSIC(\\displaystyle\\sum_{x'\\in\\mathcal{R}} k^{x'}, \\frac{1}{B} \\displaystyle\\sum_{i = 1}^{B} k^{x_i})$$\n",
        "\n",
        "Thus, dHISC essentially reduces to $d = 2$, i.e. a regular 2-variable HSIC.\n",
        "> It's worth noting that the main motivation behind using $\\mathcal{R}$ instead of the more representative $\\mathcal{D}_U$ is *perhaps* to introduce some noise in dHSIC estimator; all $|\\mathcal{D}_U|$ kernels have to be computed when greedily searching for the next point to acquire anyway -- there isn't any obvious (significant) computational savings in just using $|\\mathcal{R}|$ points!\n",
        "\n",
        "### 1.2 ICAL-pointwise\n",
        "TODO\n",
        "\n",
        "### 1.3 Larger batch sizes\n",
        "Instead of acquiring one point at a time, the authors suggested acquiring L points at a time, hence a full acquisition of $B$ points only requires $\\frac{B}{L}$ iterations. The authors are aware that they might sacrifice diversity in the batch by doing so."
      ]
    },
    {
      "cell_type": "markdown",
      "metadata": {
        "id": "pOVORDS3O07I",
        "colab_type": "text"
      },
      "source": [
        "# Results\n",
        "\n",
        "The authors benchmarked a subset of the methods outlined in _Related work_, namely: BatchBALD, BALD, random acquisition, ICAL, BayesCoreset, FASS, and Max entropy.\n",
        "\n",
        "## MNIST & Repeated MNIST\n",
        "\n",
        "The results from ICAL, BatchBALD, and BayesCoreset are neck and neck.\n",
        "(30 acquisitions; batch acquisition size = 10; 50 MC dropout samples)\n",
        "\n",
        "## EMNIST\n",
        "ICAL outperforms BatchBALD and BayesCoreset. \n",
        "(60 acquisitions; batch acquisition size = 5; 50 MC dropout samples)\n",
        "\n",
        "The authors attributed ICAL's performance to its ability to acquire a more diverse and balanced set of batches while stating that the other methods have under and over represented classes. The figure (Figure 4) shows that BatchBALD, random acquisition, and Max Entropy completely missed some classes in `EMNIST` (47 classes)! (Probably a contrived example given random acquisition should on average have ~6 points per class).\n",
        "\n",
        "The authors argues that ICAL is more robust even as the number of classes increases (47) whereas the other alternatives degenerate.\n",
        "\n",
        "## Fashion MNIST\n",
        "Likewise, ICAL outperforms the BatchBALD and BayesCoreset. **Interestingly, the runner-up for FashionMNIST is random acquisition, besting both BatchBALD and BayesCoreset.**\n",
        "\n",
        "(30 acquisitions; batch acquisition size = 10; 100 MC dropout samples)\n",
        "\n",
        "## CIFAR-10 & CIFAR-100\n",
        "ICAL outperforms all others. BayesCoreset performs the closest to ICAL.\n",
        "\n",
        "(10 acquisitions on CIFAR-10 and 7 acquisitions on CIFAR-100; batch acquisition size = 3,000; MC dropout samples _not mentioned_).\n",
        "\n",
        "> BatchBALD ran out of memory on both datasets and was not benchmarked.\n",
        "\n",
        "\n"
      ]
    },
    {
      "cell_type": "markdown",
      "metadata": {
        "id": "8gQf1qi9Uobx",
        "colab_type": "text"
      },
      "source": [
        "# Conclusion\n",
        "\n",
        "ICAL is model agnostic, applicable to both classification and regression tasks, and scales well with large batch sizes and large unlabelled pool sizes.\n",
        "\n",
        "Future work includes even larger batch sizes (exploring techniques used in feature selection) and a hybird of getting the most information for __both__ model parameters (like BALD) and labels of the unlabelled pool in a single acquisition function."
      ]
    },
    {
      "cell_type": "markdown",
      "metadata": {
        "id": "iDaIhaSYVTw1",
        "colab_type": "text"
      },
      "source": [
        "# Closing remarks (Relatability to AL project)\n",
        "\n",
        "1. The methods in _related work_ is worth exploring as there are some interesting ideas about AL in the context of deep learning and the authors did not benchmark all of them.\n",
        "2. Extend BatchBALD to work with larger batch sizes (presumably 3000 samples at once is much)\n",
        "3. Explore the direction of _diversity_ in the samples acquired. Does diversity decrease as the number of classes increase, as the authors postulated?\n",
        "4. Does dHISC really make a difference? What if we used MI as the dependecy measure $\\delta$ instead of dHISC? (The authors cited papers that support their claim (Song & Ermon 2019)) It will no longer be ICAL but we could try taking the MI w.r.t. labels of the unlabelled pool as opposed to the usual model parameters.\n",
        "5. The idea of a hybrid acquisition function seems appealing; can we combine information gained from labels of the unlabelled pool and model parameters together? Naively one could consider a weighted approach:\n",
        "    - $\\alpha$ * MI w.r.t. model params + $\\beta$ * MI w.r.t. labels of unlabelled pool or\n",
        "    - $\\alpha$ * MI w.r.t. model params + $\\beta$ * dHSIC w.r.t. labels of unlabelled pool or\n",
        "    - $\\alpha$ * dHISC w.r.t. model params + $\\beta$ * MI w.r.t. labels of unlabelled pool or\n",
        "    - $\\alpha$ * dHISC w.r.t. model params + $\\beta$ * dHISC w.r.t. labels of unlabelled pool for some $\\alpha, \\beta \\in \\mathbb{R}$\n",
        "6. Reconsider adding noise to the estimator -- is subsampling $\\mathcal{R}$ a benificial action? Can this be applied in other acquisition functions? Will they improve?"
      ]
    },
    {
      "cell_type": "markdown",
      "metadata": {
        "id": "RNj395eTXTI1",
        "colab_type": "text"
      },
      "source": [
        "# Compilation of TODOs\n",
        "\n",
        "1. Find out how the methods in _Related work_ work (esp. about learnt representational spaces).\n",
        "2. Read [Song & Ermon (2019)](https://arxiv.org/pdf/1910.06222.pdf)"
      ]
    },
    {
      "cell_type": "code",
      "metadata": {
        "id": "4k0qoe_mTrTI",
        "colab_type": "code",
        "outputId": "6ecde26a-2434-43b9-bfe8-0b0b77491eef",
        "colab": {
          "base_uri": "https://localhost:8080/",
          "height": 309
        }
      },
      "source": [
        "!pip install --no-cache-dir git+https://github.com/jiahfong/alr.git@b27090b74fdaa165a44f40ec35b9b2050fca0b71"
      ],
      "execution_count": 0,
      "outputs": [
        {
          "output_type": "stream",
          "text": [
            "Collecting git+https://github.com/jiahfong/alr.git@b27090b74fdaa165a44f40ec35b9b2050fca0b71\n",
            "  Cloning https://github.com/jiahfong/alr.git (to revision b27090b74fdaa165a44f40ec35b9b2050fca0b71) to /tmp/pip-req-build-ofujltdc\n",
            "  Running command git clone -q https://github.com/jiahfong/alr.git /tmp/pip-req-build-ofujltdc\n",
            "  Running command git checkout -q b27090b74fdaa165a44f40ec35b9b2050fca0b71\n",
            "Requirement already satisfied (use --upgrade to upgrade): alr==0.0.0b1 from git+https://github.com/jiahfong/alr.git@b27090b74fdaa165a44f40ec35b9b2050fca0b71 in /usr/local/lib/python3.6/dist-packages\n",
            "Requirement already satisfied: torch in /usr/local/lib/python3.6/dist-packages (from alr==0.0.0b1) (1.4.0)\n",
            "Requirement already satisfied: tqdm in /usr/local/lib/python3.6/dist-packages (from alr==0.0.0b1) (4.38.0)\n",
            "Requirement already satisfied: numpy in /usr/local/lib/python3.6/dist-packages (from alr==0.0.0b1) (1.18.2)\n",
            "Requirement already satisfied: scikit-learn in /usr/local/lib/python3.6/dist-packages (from alr==0.0.0b1) (0.22.2.post1)\n",
            "Requirement already satisfied: joblib>=0.11 in /usr/local/lib/python3.6/dist-packages (from scikit-learn->alr==0.0.0b1) (0.14.1)\n",
            "Requirement already satisfied: scipy>=0.17.0 in /usr/local/lib/python3.6/dist-packages (from scikit-learn->alr==0.0.0b1) (1.4.1)\n",
            "Building wheels for collected packages: alr\n",
            "  Building wheel for alr (setup.py) ... \u001b[?25l\u001b[?25hdone\n",
            "  Created wheel for alr: filename=alr-0.0.0b1-cp36-none-any.whl size=10666 sha256=42a9b6e4dc2928cb28f8592eb217d11a03b16fbc1ad2f907e59ba2405262404a\n",
            "  Stored in directory: /tmp/pip-ephem-wheel-cache-jj91mj6_/wheels/4c/c9/61/4b7a8ab8f93e92166c0115339c8cd7bd79a9f29650f3f3ea69\n",
            "Successfully built alr\n"
          ],
          "name": "stdout"
        }
      ]
    },
    {
      "cell_type": "code",
      "metadata": {
        "id": "RCXrYunV03IP",
        "colab_type": "code",
        "colab": {}
      },
      "source": [
        "%matplotlib inline\n",
        "import matplotlib.pyplot as plt\n",
        "import numpy as np\n",
        "import torch\n",
        "import torchvision\n",
        "import typing\n",
        "\n",
        "from torch import nn\n",
        "from torch.nn import functional as F\n",
        "from alr import *"
      ],
      "execution_count": 0,
      "outputs": []
    },
    {
      "cell_type": "code",
      "metadata": {
        "id": "mg29Sw0fJDWq",
        "colab_type": "code",
        "outputId": "d4521e83-045b-449e-ccb5-ccd94378b5f6",
        "colab": {
          "base_uri": "https://localhost:8080/",
          "height": 34
        }
      },
      "source": [
        "transforms = torchvision.transforms.Compose([\n",
        "    torchvision.transforms.ToTensor()\n",
        "])\n",
        "train = torchvision.datasets.MNIST('./data', download=True, train=True, transform=transforms)\n",
        "test = torchvision.datasets.MNIST('./data', download=True, train=False, transform=transforms)\n",
        "device = torch.device('cuda:0' if torch.cuda.is_available() else 'cpu')\n",
        "device"
      ],
      "execution_count": 0,
      "outputs": [
        {
          "output_type": "execute_result",
          "data": {
            "text/plain": [
              "device(type='cuda', index=0)"
            ]
          },
          "metadata": {
            "tags": []
          },
          "execution_count": 3
        }
      ]
    },
    {
      "cell_type": "code",
      "metadata": {
        "id": "qbHXAhIOjREM",
        "colab_type": "code",
        "outputId": "365077ea-0da9-48f7-d7dc-ddc5b7fb7612",
        "colab": {
          "base_uri": "https://localhost:8080/",
          "height": 51
        }
      },
      "source": [
        "X_train, y_train = train.data.unsqueeze(1) / 255.0, train.targets\n",
        "X_test, y_test = test.data.unsqueeze(1) / 255.0, test.targets\n",
        "\n",
        "print(X_train.size(), y_train.size())\n",
        "print(X_test.size(), y_test.size())"
      ],
      "execution_count": 0,
      "outputs": [
        {
          "output_type": "stream",
          "text": [
            "torch.Size([60000, 1, 28, 28]) torch.Size([60000])\n",
            "torch.Size([10000, 1, 28, 28]) torch.Size([10000])\n"
          ],
          "name": "stdout"
        }
      ]
    },
    {
      "cell_type": "code",
      "metadata": {
        "id": "_PJS2dehj7DP",
        "colab_type": "code",
        "colab": {}
      },
      "source": [
        "dl_params = dict(pin_memory=True, num_workers=2)\n",
        "INITIAL_EPOCHS = EPOCHS = 100\n",
        "INIT_TRAIN_SIZE = 20\n",
        "NFORWARD = 50"
      ],
      "execution_count": 0,
      "outputs": []
    },
    {
      "cell_type": "code",
      "metadata": {
        "id": "qoJ41_qvlCRR",
        "colab_type": "code",
        "colab": {}
      },
      "source": [
        "class Net(nn.Module):\n",
        "    def __init__(self):\n",
        "        super(Net, self).__init__()\n",
        "        # architecture of this model came from:\n",
        "        # https://github.com/keras-team/keras/blob/master/examples/mnist_cnn.py\n",
        "        self.conv1 = nn.Conv2d(1, 32, 3)\n",
        "        self.conv2 = nn.Conv2d(32, 64, 3)\n",
        "        self.maxpool = nn.MaxPool2d(2)\n",
        "        self.flatten = nn.Flatten()\n",
        "        self.fc1 = nn.Linear(12*12*64, 128)\n",
        "        self.fc2 = nn.Linear(128, 10)\n",
        "    \n",
        "    def forward(self, x):\n",
        "        x = F.relu(self.conv1(x))\n",
        "        x = F.relu(self.conv2(x))\n",
        "        x = self.maxpool(x)\n",
        "        # NOTE: this is NOT Dropout2D!\n",
        "        x = F.dropout(x, p=.25, training=True)\n",
        "        x = self.flatten(x)\n",
        "        x = F.relu(self.fc1(x))\n",
        "        x = F.dropout(x, p=.5, training=True)\n",
        "        x = self.fc2(x)\n",
        "        return x\n",
        "\n",
        "model = MCDropout(Net(), NFORWARD).to(device)\n",
        "optimiser = torch.optim.Adam(model.parameters())\n",
        "test_data_loader = torch.utils.data.DataLoader(ALRDataset(X_test, y_test),\n",
        "                                               batch_size=256, **dl_params)"
      ],
      "execution_count": 0,
      "outputs": []
    },
    {
      "cell_type": "code",
      "metadata": {
        "id": "LjYfeiNGlK7h",
        "colab_type": "code",
        "outputId": "0792347e-9b72-45a4-a5a4-5e774e3e9b35",
        "colab": {
          "base_uri": "https://localhost:8080/",
          "height": 51
        }
      },
      "source": [
        "X_train, y_train, X_pool, y_pool = stratified_partition(X_train, y_train, train_size=INIT_TRAIN_SIZE)\n",
        "subset_pool = np.random.choice(X_pool.size(0), size=10_000, replace=False)\n",
        "X_pool, y_pool = X_pool[subset_pool], y_pool[subset_pool]\n",
        "print(X_train.size(), y_train.size())\n",
        "print(X_pool.size(), y_pool.size())"
      ],
      "execution_count": 0,
      "outputs": [
        {
          "output_type": "stream",
          "text": [
            "torch.Size([20, 1, 28, 28]) torch.Size([20])\n",
            "torch.Size([10000, 1, 28, 28]) torch.Size([10000])\n"
          ],
          "name": "stdout"
        }
      ]
    },
    {
      "cell_type": "code",
      "metadata": {
        "id": "7Bo4KFAgkZ-3",
        "colab_type": "code",
        "outputId": "574c2c43-7a39-499b-9bca-26575fa10bb3",
        "colab": {
          "base_uri": "https://localhost:8080/",
          "height": 1000
        }
      },
      "source": [
        "acquisition_function = ICAL(model, device=device, batch_size=256, **dl_params)\n",
        "history = run_experiment(model, acquisition_function,\n",
        "                         X_train, y_train, X_pool, y_pool,\n",
        "                         test_data_loader, optimiser, b=10,\n",
        "                         iters=30, init_epochs=INITIAL_EPOCHS, epochs=EPOCHS,\n",
        "                         device=device, batch_size=128, **dl_params)"
      ],
      "execution_count": 0,
      "outputs": [
        {
          "output_type": "stream",
          "text": [
            "Commencing initial training with 20 points\n",
            "100%|██████████| 100/100 [00:11<00:00,  8.74it/s, loss=0.00178]\n",
            "Accuracy = 0.5698\n",
            "=====\n",
            "Acquisition iteration 1 (3.33%), training size: 30\n",
            "100%|██████████| 100/100 [00:16<00:00,  6.04it/s, loss=0.108]\n",
            "Accuracy = 0.6155\n",
            "=====\n",
            "Acquisition iteration 2 (6.67%), training size: 40\n",
            "100%|██████████| 100/100 [00:16<00:00,  6.04it/s, loss=0.0494]\n",
            "Accuracy = 0.6447\n",
            "=====\n",
            "Acquisition iteration 3 (10.00%), training size: 50\n",
            "100%|██████████| 100/100 [00:16<00:00,  6.02it/s, loss=0.0291]\n",
            "Accuracy = 0.6766\n",
            "=====\n",
            "Acquisition iteration 4 (13.33%), training size: 60\n",
            "100%|██████████| 100/100 [00:16<00:00,  6.02it/s, loss=0.0239]\n",
            "Accuracy = 0.7166\n",
            "=====\n",
            "Acquisition iteration 5 (16.67%), training size: 70\n",
            "100%|██████████| 100/100 [00:16<00:00,  5.97it/s, loss=0.057]\n",
            "Accuracy = 0.7554\n",
            "=====\n",
            "Acquisition iteration 6 (20.00%), training size: 80\n",
            "100%|██████████| 100/100 [00:16<00:00,  5.97it/s, loss=0.00781]\n",
            "Accuracy = 0.7872\n",
            "=====\n",
            "Acquisition iteration 7 (23.33%), training size: 90\n",
            "100%|██████████| 100/100 [00:16<00:00,  5.98it/s, loss=0.0265]\n",
            "Accuracy = 0.8031\n",
            "=====\n",
            "Acquisition iteration 8 (26.67%), training size: 100\n",
            "100%|██████████| 100/100 [00:16<00:00,  5.97it/s, loss=0.0238]\n",
            "Accuracy = 0.8202\n",
            "=====\n",
            "Acquisition iteration 9 (30.00%), training size: 110\n",
            "100%|██████████| 100/100 [00:16<00:00,  6.04it/s, loss=0.0219]\n",
            "Accuracy = 0.8263\n",
            "=====\n",
            "Acquisition iteration 10 (33.33%), training size: 120\n",
            "100%|██████████| 100/100 [00:16<00:00,  5.91it/s, loss=0.0452]\n",
            "Accuracy = 0.8273\n",
            "=====\n",
            "Acquisition iteration 11 (36.67%), training size: 130\n",
            "100%|██████████| 100/100 [00:16<00:00,  5.99it/s, loss=0.0432]\n",
            "Accuracy = 0.8625\n",
            "=====\n",
            "Acquisition iteration 12 (40.00%), training size: 140\n",
            "100%|██████████| 100/100 [00:16<00:00,  6.20it/s, loss=0.0745]\n",
            "Accuracy = 0.8443\n",
            "=====\n",
            "Acquisition iteration 13 (43.33%), training size: 150\n",
            "100%|██████████| 100/100 [00:17<00:00,  5.58it/s, loss=0.0814]\n",
            "Accuracy = 0.846\n",
            "=====\n",
            "Acquisition iteration 14 (46.67%), training size: 160\n",
            "100%|██████████| 100/100 [00:17<00:00,  5.64it/s, loss=0.0998]\n",
            "Accuracy = 0.8554\n",
            "=====\n",
            "Acquisition iteration 15 (50.00%), training size: 170\n",
            "100%|██████████| 100/100 [00:17<00:00,  5.63it/s, loss=0.0492]\n",
            "Accuracy = 0.858\n",
            "=====\n",
            "Acquisition iteration 16 (53.33%), training size: 180\n",
            "100%|██████████| 100/100 [00:17<00:00,  5.64it/s, loss=0.0948]\n",
            "Accuracy = 0.8627\n",
            "=====\n",
            "Acquisition iteration 17 (56.67%), training size: 190\n",
            "100%|██████████| 100/100 [00:17<00:00,  5.62it/s, loss=0.0634]\n",
            "Accuracy = 0.8735\n",
            "=====\n",
            "Acquisition iteration 18 (60.00%), training size: 200\n",
            "100%|██████████| 100/100 [00:16<00:00,  6.20it/s, loss=0.0887]\n",
            "Accuracy = 0.888\n",
            "=====\n",
            "Acquisition iteration 19 (63.33%), training size: 210\n",
            "100%|██████████| 100/100 [00:16<00:00,  6.18it/s, loss=0.0539]\n",
            "Accuracy = 0.8991\n",
            "=====\n",
            "Acquisition iteration 20 (66.67%), training size: 220\n",
            "100%|██████████| 100/100 [00:17<00:00,  5.63it/s, loss=0.035]\n",
            "Accuracy = 0.888\n",
            "=====\n",
            "Acquisition iteration 21 (70.00%), training size: 230\n",
            "100%|██████████| 100/100 [00:17<00:00,  5.66it/s, loss=0.0421]\n",
            "Accuracy = 0.9021\n",
            "=====\n",
            "Acquisition iteration 22 (73.33%), training size: 240\n",
            "100%|██████████| 100/100 [00:17<00:00,  5.59it/s, loss=0.0333]\n",
            "Accuracy = 0.905\n",
            "=====\n",
            "Acquisition iteration 23 (76.67%), training size: 250\n",
            "100%|██████████| 100/100 [00:17<00:00,  5.60it/s, loss=0.0338]\n",
            "Accuracy = 0.9086\n",
            "=====\n",
            "Acquisition iteration 24 (80.00%), training size: 260\n",
            "100%|██████████| 100/100 [00:18<00:00,  5.38it/s, loss=0.0957]\n",
            "Accuracy = 0.9251\n",
            "=====\n",
            "Acquisition iteration 25 (83.33%), training size: 270\n",
            "100%|██████████| 100/100 [00:18<00:00,  5.37it/s, loss=0.0502]\n",
            "Accuracy = 0.9348\n",
            "=====\n",
            "Acquisition iteration 26 (86.67%), training size: 280\n",
            "100%|██████████| 100/100 [00:18<00:00,  5.36it/s, loss=0.076]\n",
            "Accuracy = 0.9252\n",
            "=====\n",
            "Acquisition iteration 27 (90.00%), training size: 290\n",
            "100%|██████████| 100/100 [00:18<00:00,  5.36it/s, loss=0.125]\n",
            "Accuracy = 0.9246\n",
            "=====\n",
            "Acquisition iteration 28 (93.33%), training size: 300\n",
            "100%|██████████| 100/100 [00:18<00:00,  5.36it/s, loss=0.0396]\n",
            "Accuracy = 0.9229\n",
            "=====\n",
            "Acquisition iteration 29 (96.67%), training size: 310\n",
            "100%|██████████| 100/100 [00:18<00:00,  5.37it/s, loss=0.062]\n",
            "Accuracy = 0.9222\n",
            "=====\n",
            "Acquisition iteration 30 (100.00%), training size: 320\n",
            "100%|██████████| 100/100 [00:18<00:00,  5.37it/s, loss=0.0499]\n",
            "Accuracy = 0.9257\n",
            "=====\n"
          ],
          "name": "stdout"
        }
      ]
    },
    {
      "cell_type": "code",
      "metadata": {
        "id": "QKAs7dJaReIY",
        "colab_type": "code",
        "outputId": "e74ec3f2-3b9d-4c56-bfc9-609258938c7b",
        "colab": {
          "base_uri": "https://localhost:8080/",
          "height": 1000
        }
      },
      "source": [
        "# this time, try random acqusition\n",
        "model.reset_weights()\n",
        "ra_history = run_experiment(model, RandomAcquisition(),\n",
        "                            X_train, y_train, X_pool, y_pool,\n",
        "                            test_data_loader, optimiser, b=10,\n",
        "                            iters=30, init_epochs=INITIAL_EPOCHS, epochs=EPOCHS,\n",
        "                            device=device, batch_size=128, **dl_params)"
      ],
      "execution_count": 0,
      "outputs": [
        {
          "output_type": "stream",
          "text": [
            "Commencing initial training with 20 points\n",
            "100%|██████████| 100/100 [00:16<00:00,  5.99it/s, loss=0.0272]\n",
            "Accuracy = 0.5411\n",
            "=====\n",
            "Acquisition iteration 1 (3.33%), training size: 30\n",
            "100%|██████████| 100/100 [00:16<00:00,  5.97it/s, loss=0.00146]\n",
            "Accuracy = 0.5824\n",
            "=====\n",
            "Acquisition iteration 2 (6.67%), training size: 40\n",
            "100%|██████████| 100/100 [00:16<00:00,  5.95it/s, loss=0.0105]\n",
            "Accuracy = 0.6597\n",
            "=====\n",
            "Acquisition iteration 3 (10.00%), training size: 50\n",
            "100%|██████████| 100/100 [00:16<00:00,  5.92it/s, loss=0.0551]\n",
            "Accuracy = 0.6851\n",
            "=====\n",
            "Acquisition iteration 4 (13.33%), training size: 60\n",
            "100%|██████████| 100/100 [00:16<00:00,  5.95it/s, loss=0.00405]\n",
            "Accuracy = 0.7067\n",
            "=====\n",
            "Acquisition iteration 5 (16.67%), training size: 70\n",
            "100%|██████████| 100/100 [00:16<00:00,  5.89it/s, loss=0.0169]\n",
            "Accuracy = 0.7555\n",
            "=====\n",
            "Acquisition iteration 6 (20.00%), training size: 80\n",
            "100%|██████████| 100/100 [00:16<00:00,  5.93it/s, loss=0.00465]\n",
            "Accuracy = 0.7917\n",
            "=====\n",
            "Acquisition iteration 7 (23.33%), training size: 90\n",
            "100%|██████████| 100/100 [00:16<00:00,  5.91it/s, loss=0.0133]\n",
            "Accuracy = 0.7964\n",
            "=====\n",
            "Acquisition iteration 8 (26.67%), training size: 100\n",
            "100%|██████████| 100/100 [00:16<00:00,  5.90it/s, loss=0.00813]\n",
            "Accuracy = 0.8066\n",
            "=====\n",
            "Acquisition iteration 9 (30.00%), training size: 110\n",
            "100%|██████████| 100/100 [00:16<00:00,  5.88it/s, loss=0.0263]\n",
            "Accuracy = 0.8072\n",
            "=====\n",
            "Acquisition iteration 10 (33.33%), training size: 120\n",
            "100%|██████████| 100/100 [00:16<00:00,  5.90it/s, loss=0.0178]\n",
            "Accuracy = 0.8224\n",
            "=====\n",
            "Acquisition iteration 11 (36.67%), training size: 130\n",
            "100%|██████████| 100/100 [00:17<00:00,  5.64it/s, loss=0.0611]\n",
            "Accuracy = 0.8254\n",
            "=====\n",
            "Acquisition iteration 12 (40.00%), training size: 140\n",
            "100%|██████████| 100/100 [00:17<00:00,  5.61it/s, loss=0.0453]\n",
            "Accuracy = 0.8363\n",
            "=====\n",
            "Acquisition iteration 13 (43.33%), training size: 150\n",
            "100%|██████████| 100/100 [00:17<00:00,  5.59it/s, loss=0.0173]\n",
            "Accuracy = 0.8335\n",
            "=====\n",
            "Acquisition iteration 14 (46.67%), training size: 160\n",
            "100%|██████████| 100/100 [00:17<00:00,  5.60it/s, loss=0.0214]\n",
            "Accuracy = 0.8358\n",
            "=====\n",
            "Acquisition iteration 15 (50.00%), training size: 170\n",
            "100%|██████████| 100/100 [00:17<00:00,  5.58it/s, loss=0.0276]\n",
            "Accuracy = 0.8502\n",
            "=====\n",
            "Acquisition iteration 16 (53.33%), training size: 180\n",
            "100%|██████████| 100/100 [00:17<00:00,  5.59it/s, loss=0.0152]\n",
            "Accuracy = 0.8663\n",
            "=====\n",
            "Acquisition iteration 17 (56.67%), training size: 190\n",
            "100%|██████████| 100/100 [00:17<00:00,  5.59it/s, loss=0.0188]\n",
            "Accuracy = 0.8574\n",
            "=====\n",
            "Acquisition iteration 18 (60.00%), training size: 200\n",
            "100%|██████████| 100/100 [00:17<00:00,  5.58it/s, loss=0.0271]\n",
            "Accuracy = 0.8708\n",
            "=====\n",
            "Acquisition iteration 19 (63.33%), training size: 210\n",
            "100%|██████████| 100/100 [00:18<00:00,  5.53it/s, loss=0.0176]\n",
            "Accuracy = 0.8682\n",
            "=====\n",
            "Acquisition iteration 20 (66.67%), training size: 220\n",
            "100%|██████████| 100/100 [00:17<00:00,  5.57it/s, loss=0.0355]\n",
            "Accuracy = 0.871\n",
            "=====\n",
            "Acquisition iteration 21 (70.00%), training size: 230\n",
            "100%|██████████| 100/100 [00:18<00:00,  5.55it/s, loss=0.0204]\n",
            "Accuracy = 0.8658\n",
            "=====\n",
            "Acquisition iteration 22 (73.33%), training size: 240\n",
            "100%|██████████| 100/100 [00:17<00:00,  5.57it/s, loss=0.0167]\n",
            "Accuracy = 0.8714\n",
            "=====\n",
            "Acquisition iteration 23 (76.67%), training size: 250\n",
            "100%|██████████| 100/100 [00:17<00:00,  5.63it/s, loss=0.0206]\n",
            "Accuracy = 0.869\n",
            "=====\n",
            "Acquisition iteration 24 (80.00%), training size: 260\n",
            "100%|██████████| 100/100 [00:18<00:00,  5.54it/s, loss=0.0272]\n",
            "Accuracy = 0.8962\n",
            "=====\n",
            "Acquisition iteration 25 (83.33%), training size: 270\n",
            "100%|██████████| 100/100 [00:18<00:00,  5.41it/s, loss=0.0162]\n",
            "Accuracy = 0.8869\n",
            "=====\n",
            "Acquisition iteration 26 (86.67%), training size: 280\n",
            "100%|██████████| 100/100 [00:18<00:00,  5.40it/s, loss=0.0292]\n",
            "Accuracy = 0.8752\n",
            "=====\n",
            "Acquisition iteration 27 (90.00%), training size: 290\n",
            "100%|██████████| 100/100 [00:18<00:00,  5.41it/s, loss=0.018]\n",
            "Accuracy = 0.886\n",
            "=====\n",
            "Acquisition iteration 28 (93.33%), training size: 300\n",
            "100%|██████████| 100/100 [00:18<00:00,  5.46it/s, loss=0.0124]\n",
            "Accuracy = 0.8796\n",
            "=====\n",
            "Acquisition iteration 29 (96.67%), training size: 310\n",
            "100%|██████████| 100/100 [00:18<00:00,  5.39it/s, loss=0.0195]\n",
            "Accuracy = 0.8861\n",
            "=====\n",
            "Acquisition iteration 30 (100.00%), training size: 320\n",
            "100%|██████████| 100/100 [00:18<00:00,  5.34it/s, loss=0.0278]\n",
            "Accuracy = 0.8925\n",
            "=====\n"
          ],
          "name": "stdout"
        }
      ]
    },
    {
      "cell_type": "code",
      "metadata": {
        "id": "UflY8EcQRt88",
        "colab_type": "code",
        "outputId": "5d51ab9c-58d8-4eae-e222-bad128532530",
        "colab": {
          "base_uri": "https://localhost:8080/",
          "height": 295
        }
      },
      "source": [
        "plt.plot(list(history.keys()), list(history.values()), label='ICAL 10')\n",
        "plt.plot(list(ra_history.keys()), list(ra_history.values()), label='RA 10')\n",
        "plt.xlabel(\"Total training points\")\n",
        "plt.ylabel(\"Accuracy\")\n",
        "plt.legend()\n",
        "plt.title(\"ICAL vs RA\");"
      ],
      "execution_count": 0,
      "outputs": [
        {
          "output_type": "display_data",
          "data": {
            "image/png": "[encoded data removed]",
            "text/plain": [
              "<Figure size 432x288 with 1 Axes>"
            ]
          },
          "metadata": {
            "tags": [],
            "needs_background": "light"
          }
        }
      ]
    }
  ]
}