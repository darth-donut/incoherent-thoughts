{
  "nbformat": 4,
  "nbformat_minor": 0,
  "metadata": {
    "colab": {
      "name": "Information Condensing Active Learning.ipynb",
      "provenance": [],
      "collapsed_sections": [],
      "authorship_tag": "ABX9TyMwSLe5Xbv7MKEfgUC9E/z7",
      "include_colab_link": true
    },
    "kernelspec": {
      "name": "python3",
      "display_name": "Python 3"
    },
    "accelerator": "GPU"
  },
  "cells": [
    {
      "cell_type": "markdown",
      "metadata": {
        "id": "view-in-github",
        "colab_type": "text"
      },
      "source": [
        "<a href=\"https://colab.research.google.com/github/jiahfong/incoherent-thoughts/blob/develop/Information_Condensing_Active_Learning.ipynb\" target=\"_parent\"><img src=\"https://colab.research.google.com/assets/colab-badge.svg\" alt=\"Open In Colab\"/></a>"
      ]
    },
    {
      "cell_type": "markdown",
      "metadata": {
        "id": "lBNqD0KJLGFT",
        "colab_type": "text"
      },
      "source": [
        "# Information Condensing Active Learning"
      ]
    },
    {
      "cell_type": "markdown",
      "metadata": {
        "id": "Ctc_LknFLJYR",
        "colab_type": "text"
      },
      "source": [
        "# Introduction\n",
        "\n",
        "Acquisition functions usually use model predictions/point locations (i.e. input features or learned representation space) to decide which points will improve model accuracy.\n",
        "> IDEA: does latent disentanglement + distance metric work well? Find latent representations with greatest distance according to some distance metric\n",
        "\n",
        "**GOAL**: develop and active learning acquisition function to select points that maximise the _eventual test accuracy_. This minimises the uncertainty on the unlabelled set.\n",
        "> Conspicuously did not mention the speed at which it reaches the desired test accuracy?\n",
        "\n",
        "* Selecting points that maximise MI between model params and labels doesn’t always minimise the model’s uncertainty on the unlabelled pool. Paper will demonstrate this point\n",
        "* Instead, ICAL searches for the batch that maximises statistical dependency between the model’s predictions on the batch (B) and the model’s predictions on the unlabelled pool (instead of model params).\n",
        "* Greedy algorithm employed to search for such a batch B (cf. feature selection)\n",
        "* HSIC instead of MI as MI is hard to approximate using just samples (Song & Ernon 2019)\n",
        "* HSIC is also differentiable, applicable in areas where MI would be difficult to make work."
      ]
    },
    {
      "cell_type": "markdown",
      "metadata": {
        "id": "074n-WY3LdI6",
        "colab_type": "text"
      },
      "source": [
        "# Related work\n",
        "\n",
        "## Bayesian active learning by disagreement (BALD)\n",
        "MI between unlabelled labels and model parameters. Turns out to be the points where the models are individually confident but are disagreeing with one another.\n",
        "\n",
        "## Guo & Schuurmans (2008)\n",
        "Find a batch such that the post-acquisition model is confident on the training set and has low uncertainty on the unlabelled dataset. This implies retraining the model for every candidate batch (read: exponential!) and is infeasible for large neural nets (method was mainly used for logistic regression)\n",
        "\n",
        "## BMDR\n",
        "Selects points that are close to the decision boundary while maintaining the overall sample distribution. The overall sample distribution is measured using maximum mean discrepancy (MMD) on *input features* between candidate batch and the set of all points (low MMD implies more representative batch). This method requires a decision boundary to work.\n",
        "\n",
        "## BMAL\n",
        "Selects a batch such that the Fisher information matrix between the batch and the\n",
        "unlabelled pool is as close as possible. Note, this matrix is quadratic in the number of parameters, thus infeasible for NNs.\n",
        "\n",
        "## Filtered Active Subset Selection\n",
        "1. Pick a subset of points $\\mathcal{B'}$ from the unlabelled pool where the model is most uncertain. Uncertainty is quantified using entropy in this case: $H(y|x, D_{train})$. Recall, entropy is low if the models are disagreeing with each other (first term in BALD).\n",
        "2. Select a subset of points in `1.` that are representative as a whole (similar to ICAL in this regard) which favours points that can represent diversity of the set in `1.`. In other words, find $\\mathcal{B}$ such that $f(\\mathcal{B}) = \\displaystyle\\sum_{y\\in\\mathcal{Y}}\\displaystyle\\sum_{i\\in V^y}\\text{max}_{s\\in \\mathcal{B} \\cap V^y}w(i, s)$ where:\n",
        "    - $V^y$ is the set of points in $\\mathcal{B'}$ that has predicted label $y$. ($V^y \\subseteq \\mathcal{B}'$)\n",
        "    - $w(i, s)$ is a similarity function (e.g. $w(i, s) = d - ||x_i - x_s||^2_2$ where $d$ is the maximum possible distance between any two points)\n",
        "\n",
        "\n",
        "## BatchBALD\n",
        "Extending BALD to account for acquisition size of > 1. Eliminates overcounting in BALD when candidate batch size is > 1.\n",
        "\n",
        "## Bayesian Batch Active Learning as Sparse Subset Approximation\n",
        "Adapts Bayesian Coreset approach. This approach changes the batch size for every acquisition.\n",
        "\n",
        "## DeepFool\n",
        "Uses the concept of advesarial examples to find points close to the decision boundary.\n",
        "The distance between an example and one of its adversarial examples is used as an approximation of its distance to the current decision boundary (presumably a proportional relationship?). This approach mitigates the need to have an explicit decision boundary.\n",
        "\n",
        "\n",
        "\n",
        "## Others\n",
        "1. Sener & Savarese (2017) and FF-Comp (Geifman & El-Yaniv, 2017) frames the problem as a core-set selection problem\n",
        "2. Discriminative Active Learning [DAL](https://openreview.net/pdf?id=rJl-HsR9KX) trains a classifier to distinguish between labelled and unlabelled. If the classifier is confident that the datapoint is unlabelled, then intuitively these points are most unlike the labelled points and thus should be informative.\n",
        "3. [BADGE](https://arxiv.org/pdf/1906.03671.pdf) samples points which are high in magnitude and diverse in a hallucinated gradient space w.r.t. the last layer of a NN.\n",
        "\n",
        "These methods are not model agnostic as the require access to learnt representational space.\n",
        "\n",
        "TODO: find out how these methods work (esp. about learnt representational spaces)\n"
      ]
    },
    {
      "cell_type": "markdown",
      "metadata": {
        "id": "UtvVGYSLZRYO",
        "colab_type": "text"
      },
      "source": [
        "# Background\n",
        "\n",
        "The paper defines *dependency* $\\delta$ between a set of random variables $X_{1:n}$ as follows:\n",
        "\n",
        "$$\n",
        "\\delta(X_{1:n}) = \\Lambda(P_{1:n}, \\otimes_iP_i)\n",
        "$$\n",
        "\n",
        "where:\n",
        "\n",
        "1. $P_{1:n}$ is the joint distribution of $X_{1:n}$\n",
        "2. $\\otimes_i P_i$ the product of marginals\n",
        "3. $\\Lambda$ a divergence function. If $\\Lambda$ is KL divergence, then we get MI as the dependency measure ($\\mathbb{I}[X, Y] = D_{KL}(P(x, y)\\ ||\\ P(x) P(y))$); if it was maximum mean discrepency (MMD), then the dependency measure is known as **Hilbert-Schmidt Independence Criterion** (HSIC).\n",
        "\n",
        "To extend two-variable HSIC to arbitiarily many variables, the authors used [_dHISC_](https://arxiv.org/pdf/1603.00285.pdf)"
      ]
    },
    {
      "cell_type": "markdown",
      "metadata": {
        "id": "0X46uE2TGWzX",
        "colab_type": "text"
      },
      "source": [
        "# Motivation\n",
        "\n",
        "\n",
        "The upshot of this section is that picking the points with the most amount of information w.r.t. __model parameters__, for example BALD, could in fact increase the uncertainty of prediction on unlabelled data. The paper gave a toy example to demonstrate this and suggests picking points with the most amount of information w.r.t. model's predictions on the __unlabelled points__."
      ]
    },
    {
      "cell_type": "markdown",
      "metadata": {
        "id": "Xq65CwaIK6vQ",
        "colab_type": "text"
      },
      "source": [
        "# Information Condensing Active Learning (ICAL)\n",
        "\n",
        "## Acquisition function\n",
        "\n",
        "The authors defined the acquisition function as follows:\n",
        "$$\n",
        "\\alpha_{ICAL}(\\{x_1, \\dots, x_B\\}, \\delta) = \\frac{1}{|\\mathcal{D}_U|}\\displaystyle\\sum_{x'\\in\\mathcal{D}_U} \\delta(y_{x'}, \\{y_{x_1}, \\dots, y_{x_B}\\})\n",
        "$$\n",
        "\n",
        "where $\\mathcal{D}_U$ is the unlabelled pool and $\\delta$ the dependency measure. (see above). \n",
        "\n",
        "TODO: figure out the conflicting use of notation: $\\delta(X_{1:n})$ vs $\\delta(y_{x'}, \\{y_{x_1}, \\dots, y_{x_B}\\})$\n",
        "\n",
        "\n",
        "\n",
        "## 1. Scaling ICAL\n",
        "\n",
        "There are two types of ICAL introduced: normal ICAL and ICAL-pointwise. Theorem 2 showed that we could simplify the acquistion function above to: $\\frac{1}{|\\mathcal{D}_U|}\\displaystyle\\sum_{x'\\in\\mathcal{D}_U} dHSIC(k^{x'}, \\{k^{x_1}, \\dots, k^{x_B}\\}) = \\frac{1}{|\\mathcal{D}_U|} dHSIC(\\displaystyle\\sum_{x'\\in\\mathcal{D}_U} k^{x'}, \\{k^{x_1}, \\dots, k^{x_B}\\})$\n",
        "\n",
        "However, if the number of MC dropout samples $m$ is $<2D$ where $D$ is the number of variables in _d_HSIC, then _d_HSIC = 0 [Pfister et al.](https://arxiv.org/pdf/1603.00285.pd). Hence, as B grows, there is a need to increase the number of MC dropout samples $m$. The paper suggests 2 strategies to circumvent this whilst still maintaining batch diversity: normal ICAL and ICAL-pointwise.\n",
        "\n",
        "### 1.1 Normal ICAL\n",
        "The kernel matrices of the candidate batch, $k^{x_1}, \\dots, k^{x_B}$, are averaged and $r$ points are subsampled from $\\mathcal{D}_U$, $\\mathcal{R}$, instead. In all their experiments, $|\\mathcal{R}| = 200$. In other words:\n",
        "\n",
        "$$\\frac{1}{|\\mathcal{R}|} dHSIC(\\displaystyle\\sum_{x'\\in\\mathcal{R}} k^{x'}, \\frac{1}{B} \\displaystyle\\sum_{i = 1}^{B} k^{x_i})$$\n",
        "\n",
        "Thus, dHISC essentially reduces to $d = 2$, i.e. a regular HSIC.\n",
        "\n",
        "### 1.2 ICAL-pointwise\n",
        "ICAL-pointwise turns out to be more time efficient and peformed slightly better in the early acquisitions.\n",
        "\n",
        "### 1.3 Larger batch sizes\n",
        "Instead of acquiring one point at a time, the authors suggested acquiring L mini-batches at a time, hence a full acquisition of $B$ points only requires $\\frac{B}{L}$ iterations. The authors are aware that they might sacrifice diversity in the batch by doing so.\n",
        "\n",
        "\n",
        "### 1.4 \"Random acquisition\"-esque behaviour\n",
        "Consider section 1.1 (above) -- the authors suggested sampling $R$ points from $\\mathcal{D}_U$. This is almost equivalent to first performing a random acquistion then followed with subselecting indices via HSIC. In some sense,\n",
        "random acquisition already introduces diversity to the batch, as we've observed from many benchmarks.\n",
        "\n",
        "> IDEA: Consider subsampling $\\mathcal{D}_U$ for other acquisition functions too -- do they improve?"
      ]
    },
    {
      "cell_type": "markdown",
      "metadata": {
        "id": "pOVORDS3O07I",
        "colab_type": "text"
      },
      "source": [
        "# Results\n",
        "\n",
        "The authors benchmarked a subset of the methods outlined in _Related work_, namely: BatchBALD, BALD, random acquisition, ICAL, BayesCoreset, FASS, and Max entropy.\n",
        "\n",
        "## MNIST & Repeated MNIST\n",
        "\n",
        "The results from ICAL, BatchBALD, and BayesCoreset are neck and neck.\n",
        "(30 acquisitions; batch acquisition size = 10; 50 MC dropout samples)\n",
        "\n",
        "## EMNIST\n",
        "ICAL outperforms BatchBALD and BayesCoreset. \n",
        "(60 acquisitions; batch acquisition size = 5; 50 MC dropout samples)\n",
        "\n",
        "The authors attributed ICAL's performance to its ability to acquire a more diverse and balanced set of batches while stating that the other methods have under and over represented classes. The figure (Figure 4) shows that BatchBALD, random acquisition, and Max Entropy completely missed some classes in `EMNIST` (47 classes)! (Probably a contrived example given random acquisition should on average have ~6 points per class).\n",
        "\n",
        "The authors argues that ICAL is more robust even as the number of classes increases (47) whereas the other alternatives degenerate.\n",
        "\n",
        "## Fashion MNIST\n",
        "Likewise, ICAL outperforms the BatchBALD and BayesCoreset. **Interestingly, the runner-up for FashionMNIST is random acquisition, besting both BatchBALD and BayesCoreset.**\n",
        "\n",
        "(30 acquisitions; batch acquisition size = 10; 100 MC dropout samples)\n",
        "\n",
        "## CIFAR-10 & CIFAR-100\n",
        "ICAL outperforms all others. BayesCoreset performs the closest to ICAL.\n",
        "\n",
        "(10 acquisitions on CIFAR-10 and 7 acquisitions on CIFAR-100; batch acquisition size = 3,000; MC dropout samples _not mentioned_).\n",
        "\n",
        "> BatchBALD ran out of memory on both datasets and was not benchmarked.\n",
        "\n",
        "\n"
      ]
    },
    {
      "cell_type": "markdown",
      "metadata": {
        "id": "8gQf1qi9Uobx",
        "colab_type": "text"
      },
      "source": [
        "# Conclusion\n",
        "\n",
        "ICAL is model agnostic, applicable to both classification and regression tasks, and scales well with large batch sizes and large unlabelled pool sizes.\n",
        "\n",
        "Future work includes even larger batch sizes (exploring techniques used in feature selection) and a hybird of getting the most information for __both__ model parameters (like BALD) and labels of the unlabelled pool in a single acquisition function."
      ]
    },
    {
      "cell_type": "markdown",
      "metadata": {
        "id": "iDaIhaSYVTw1",
        "colab_type": "text"
      },
      "source": [
        "# Closing remarks (Relatability to AL project)\n",
        "\n",
        "1. The methods in _related work_ is worth exploring as there are some interesting ideas about AL in the context of deep learning and the authors did not benchmark all of them.\n",
        "2. Extend BatchBALD to work with larger batch sizes (presumably 3000 samples at once is much)\n",
        "3. Explore the direction of _diversity_ in the samples acquired. Does diversity decrease as the number of classes increase, as the authors postulated?\n",
        "4. Does dHISC really make a difference? What if we used MI as the dependecy measure $\\delta$ instead of dHISC? (The authors cited papers that support their claim (Song & Ermon 2019)) It will no longer be ICAL but we could try taking the MI w.r.t. labels of the unlabelled pool as opposed to the usual model parameters.\n",
        "5. The idea of a hybrid acquisition function seems appealing; can we combine information gained from labels of the unlabelled pool and model parameters together? Naively one could consider a weighted approach:\n",
        "    - $\\alpha$ * MI w.r.t. model params + $\\beta$ * MI w.r.t. labels of unlabelled pool or\n",
        "    - $\\alpha$ * MI w.r.t. model params + $\\beta$ * dHSIC w.r.t. labels of unlabelled pool or\n",
        "    - $\\alpha$ * dHISC w.r.t. model params + $\\beta$ * MI w.r.t. labels of unlabelled pool or\n",
        "    - $\\alpha$ * dHISC w.r.t. model params + $\\beta$ * dHISC w.r.t. labels of unlabelled pool for some $\\alpha, \\beta \\in \\mathbb{R}$\n",
        "6. Consider subsampling $\\mathcal{D}_U$ for other acquisition functions too -- do they improve? (See section 1.4 above)"
      ]
    },
    {
      "cell_type": "markdown",
      "metadata": {
        "id": "RNj395eTXTI1",
        "colab_type": "text"
      },
      "source": [
        "# Compilation of TODOs\n",
        "\n",
        "1. Find out how the methods in _Related work_ work (esp. about learnt representational spaces).\n",
        "2. Read [Song & Ermon (2019)](https://arxiv.org/pdf/1910.06222.pdf)"
      ]
    },
    {
      "cell_type": "code",
      "metadata": {
        "id": "4k0qoe_mTrTI",
        "colab_type": "code",
        "colab": {}
      },
      "source": [
        "!pip install git+https://github.com/jiahfong/alr.git@master"
      ],
      "execution_count": 0,
      "outputs": []
    },
    {
      "cell_type": "code",
      "metadata": {
        "id": "RCXrYunV03IP",
        "colab_type": "code",
        "colab": {}
      },
      "source": [
        "import numpy as np\n",
        "import torch\n",
        "import torchvision\n",
        "import typing\n",
        "\n",
        "from torch import nn\n",
        "from torch.nn import functional as F\n",
        "from alr import *"
      ],
      "execution_count": 0,
      "outputs": []
    },
    {
      "cell_type": "code",
      "metadata": {
        "id": "3BaT959e4TZP",
        "colab_type": "code",
        "outputId": "f1db4c99-621b-4841-ac0a-6e90e00be005",
        "colab": {
          "base_uri": "https://localhost:8080/",
          "height": 34
        }
      },
      "source": [
        "device = torch.device('cuda:0' if torch.cuda.is_available() else 'cpu')\n",
        "device"
      ],
      "execution_count": 2,
      "outputs": [
        {
          "output_type": "execute_result",
          "data": {
            "text/plain": [
              "device(type='cuda', index=0)"
            ]
          },
          "metadata": {
            "tags": []
          },
          "execution_count": 2
        }
      ]
    },
    {
      "cell_type": "code",
      "metadata": {
        "id": "8msnCZcJ1sz7",
        "colab_type": "code",
        "colab": {}
      },
      "source": [
        "# eq. 6 of https://arxiv.org/pdf/1801.01401.pdf\n",
        "def rational_quadratic(alpha: float):\n",
        "    def _rational_quadratic(x1: torch.Tensor, x2: torch.Tensor) -> float:\n",
        "        assert x1.shape == x2.shape\n",
        "        return (1 + torch.norm(x1 - x2).item() / (2 * alpha)) ** (-alpha)\n",
        "    return _rational_quadratic\n",
        "\n",
        "def sigmoid(x1: torch.Tensor, x2: torch.Tensor) -> float:\n",
        "    assert x1.shape == x2.shape\n",
        "    return torch.tanh(torch.sum(x1 * x2)).item()\n",
        "\n",
        "def dhsic(x: typing.List[torch.Tensor],\n",
        "          kernel: typing.Callable[..., float]) -> float:\n",
        "    D = len(x)\n",
        "    N = x[0].size(0)\n",
        "    # trivial case, definition 2.6 https://arxiv.org/pdf/1603.00285.pdf\n",
        "    if (N < 2 * D): return 0\n",
        "\n",
        "    # use float64 to prevent term2 from overflowing\n",
        "    kernels = torch.empty(size=(D, N, N), dtype=torch.float64, device=device)\n",
        "    for d in range(D):\n",
        "        for i in range(N):\n",
        "            for j in range(i, N):\n",
        "                kernels[d, i, j] = kernel(x[d][i], x[d][j])\n",
        "                kernels[d, j, i] = kernels[d, i, j]\n",
        "    kernels = kernels.to(device)\n",
        "    # https://github.com/NiklasPfister/dHSIC/blob/master/dHSIC/R/dhsic.R\n",
        "    term1 = torch.sum(torch.prod(kernels, dim=0)).item() / (N ** 2) \n",
        "    term2 = torch.prod(torch.sum(kernels, dim=(1, 2))).item() / (N ** (2 * D))\n",
        "    term3 = (2 / (N ** (D + 1))) * \\\n",
        "                torch.sum(torch.prod(torch.sum(kernels, dim=1), dim=0)).item()\n",
        "    return term1 + term2 - term3"
      ],
      "execution_count": 0,
      "outputs": []
    },
    {
      "cell_type": "code",
      "metadata": {
        "id": "RvBFNL798otP",
        "colab_type": "code",
        "outputId": "71b578a7-c316-4245-de98-7a3f61c0111f",
        "colab": {
          "base_uri": "https://localhost:8080/",
          "height": 34
        }
      },
      "source": [
        "a = [torch.normal(mean=1, std=2, size=(40, 10)) for i in range(5)]\n",
        "dhsic(a, rational_quadratic(2)) "
      ],
      "execution_count": 4,
      "outputs": [
        {
          "output_type": "execute_result",
          "data": {
            "text/plain": [
              "0.024977049796597876"
            ]
          },
          "metadata": {
            "tags": []
          },
          "execution_count": 4
        }
      ]
    },
    {
      "cell_type": "code",
      "metadata": {
        "id": "LKVzR9xHIp4j",
        "colab_type": "code",
        "outputId": "3f515aa1-c827-4dc4-c82b-3ac81b5f2b9b",
        "colab": {
          "base_uri": "https://localhost:8080/",
          "height": 34
        }
      },
      "source": [
        "dhsic(a * 4, rational_quadratic(2)) "
      ],
      "execution_count": 5,
      "outputs": [
        {
          "output_type": "execute_result",
          "data": {
            "text/plain": [
              "0.024999999999999994"
            ]
          },
          "metadata": {
            "tags": []
          },
          "execution_count": 5
        }
      ]
    },
    {
      "cell_type": "code",
      "metadata": {
        "id": "mg29Sw0fJDWq",
        "colab_type": "code",
        "colab": {}
      },
      "source": [
        "transforms = torchvision.transforms.Compose([\n",
        "    torchvision.transforms.ToTensor()\n",
        "])\n",
        "train = torchvision.datasets.MNIST('./data', download=True, train=True, transform=transforms)\n",
        "test = torchvision.datasets.MNIST('./data', download=True, train=False, transform=transforms)"
      ],
      "execution_count": 0,
      "outputs": []
    },
    {
      "cell_type": "code",
      "metadata": {
        "id": "qbHXAhIOjREM",
        "colab_type": "code",
        "colab": {
          "base_uri": "https://localhost:8080/",
          "height": 51
        },
        "outputId": "2826d12a-18f8-4643-af6e-e1ac9088ac82"
      },
      "source": [
        "X_train, y_train = train.data.unsqueeze(1) / 255.0, train.targets\n",
        "X_test, y_test = test.data.unsqueeze(1) / 255.0, test.targets\n",
        "\n",
        "print(X_train.size(), y_train.size())\n",
        "print(X_test.size(), y_test.size())"
      ],
      "execution_count": 7,
      "outputs": [
        {
          "output_type": "stream",
          "text": [
            "torch.Size([60000, 1, 28, 28]) torch.Size([60000])\n",
            "torch.Size([10000, 1, 28, 28]) torch.Size([10000])\n"
          ],
          "name": "stdout"
        }
      ]
    },
    {
      "cell_type": "code",
      "metadata": {
        "id": "_PJS2dehj7DP",
        "colab_type": "code",
        "colab": {}
      },
      "source": [
        "dl_params = dict(pin_memory=True, num_workers=2)\n",
        "INITIAL_EPOCHS = EPOCHS = 50\n",
        "INIT_TRAIN_SIZE = 20\n",
        "NFORWARD = 50"
      ],
      "execution_count": 0,
      "outputs": []
    },
    {
      "cell_type": "code",
      "metadata": {
        "id": "qoJ41_qvlCRR",
        "colab_type": "code",
        "colab": {}
      },
      "source": [
        "class Net(nn.Module):\n",
        "    def __init__(self):\n",
        "        super(Net, self).__init__()\n",
        "        # architecture of this model came from:\n",
        "        # https://github.com/keras-team/keras/blob/master/examples/mnist_cnn.py\n",
        "        self.conv1 = nn.Conv2d(1, 32, 3)\n",
        "        self.conv2 = nn.Conv2d(32, 64, 3)\n",
        "        self.maxpool = nn.MaxPool2d(2)\n",
        "        self.flatten = nn.Flatten()\n",
        "        self.fc1 = nn.Linear(12*12*64, 128)\n",
        "        self.fc2 = nn.Linear(128, 10)\n",
        "    \n",
        "    def forward(self, x):\n",
        "        x = F.relu(self.conv1(x))\n",
        "        x = F.relu(self.conv2(x))\n",
        "        x = self.maxpool(x)\n",
        "        # NOTE: this is NOT Dropout2D!\n",
        "        x = F.dropout(x, p=.25, training=True)\n",
        "        x = self.flatten(x)\n",
        "        x = F.relu(self.fc1(x))\n",
        "        x = F.dropout(x, p=.5, training=True)\n",
        "        x = self.fc2(x)\n",
        "        return x\n",
        "\n",
        "model = MCDropout(Net(), NFORWARD).to(device)\n",
        "optimiser = torch.optim.Adam(model.parameters())\n",
        "test_data_loader = torch.utils.data.DataLoader(ALRDataset(X_test, y_test),\n",
        "                                               batch_size=256, **dl_params)"
      ],
      "execution_count": 0,
      "outputs": []
    },
    {
      "cell_type": "code",
      "metadata": {
        "id": "LjYfeiNGlK7h",
        "colab_type": "code",
        "colab": {
          "base_uri": "https://localhost:8080/",
          "height": 51
        },
        "outputId": "7f17d21d-e2f6-4c69-e99b-b1a0e27f962e"
      },
      "source": [
        "X_train, y_train, X_pool, y_pool = stratified_partition(X_train, y_train, train_size=INIT_TRAIN_SIZE)\n",
        "print(X_train.size(), y_train.size())\n",
        "print(X_pool.size(), y_pool.size())"
      ],
      "execution_count": 10,
      "outputs": [
        {
          "output_type": "stream",
          "text": [
            "torch.Size([20, 1, 28, 28]) torch.Size([20])\n",
            "torch.Size([59980, 1, 28, 28]) torch.Size([59980])\n"
          ],
          "name": "stdout"
        }
      ]
    },
    {
      "cell_type": "code",
      "metadata": {
        "id": "7Bo4KFAgkZ-3",
        "colab_type": "code",
        "colab": {
          "base_uri": "https://localhost:8080/",
          "height": 1000
        },
        "outputId": "f4933ce9-b840-4541-dd90-cec9fca123d3"
      },
      "source": [
        "history = run_experiment(model, ICAL(model, ICAL.rational_quadratic(1), r=200, device=device,\n",
        "                                     batch_size=128, **dl_params),\n",
        "                         X_train, y_train, X_pool, y_pool,\n",
        "                         test_data_loader, optimiser, b=10,\n",
        "                         iters=20, init_epochs=INITIAL_EPOCHS, epochs=EPOCHS,\n",
        "                         device=device, batch_size=128, **dl_params)"
      ],
      "execution_count": 11,
      "outputs": [
        {
          "output_type": "stream",
          "text": [
            "Commencing initial training with 20 points\n",
            "100%|██████████| 50/50 [00:05<00:00,  8.96it/s, loss=0.00897]\n"
          ],
          "name": "stdout"
        },
        {
          "output_type": "stream",
          "text": [
            "/content/alr.py:163: UserWarning: Calling stochastic_forward but model is not in training mode. This may have unintended effects.\n",
            "  warnings.warn('Calling stochastic_forward but '\n"
          ],
          "name": "stderr"
        },
        {
          "output_type": "stream",
          "text": [
            "Accuracy = 0.577\n",
            "=====\n",
            "Acquisition iteration 1 (5.00%), training size: 30\n",
            "100%|██████████| 50/50 [00:05<00:00,  8.78it/s, loss=0.0796]\n",
            "Accuracy = 0.6809\n",
            "=====\n",
            "Acquisition iteration 2 (10.00%), training size: 40\n",
            "100%|██████████| 50/50 [00:06<00:00,  8.17it/s, loss=0.0659]\n",
            "Accuracy = 0.7159\n",
            "=====\n",
            "Acquisition iteration 3 (15.00%), training size: 50\n",
            "100%|██████████| 50/50 [00:06<00:00,  8.09it/s, loss=0.0604]\n",
            "Accuracy = 0.7047\n",
            "=====\n",
            "Acquisition iteration 4 (20.00%), training size: 60\n",
            "100%|██████████| 50/50 [00:06<00:00,  8.15it/s, loss=0.0583]\n",
            "Accuracy = 0.7453\n",
            "=====\n",
            "Acquisition iteration 5 (25.00%), training size: 70\n",
            "100%|██████████| 50/50 [00:06<00:00,  7.86it/s, loss=0.0672]\n",
            "Accuracy = 0.7538\n",
            "=====\n",
            "Acquisition iteration 6 (30.00%), training size: 80\n",
            "100%|██████████| 50/50 [00:06<00:00,  7.84it/s, loss=0.0468]\n",
            "Accuracy = 0.767\n",
            "=====\n",
            "Acquisition iteration 7 (35.00%), training size: 90\n",
            "100%|██████████| 50/50 [00:06<00:00,  7.74it/s, loss=0.0922]\n",
            "Accuracy = 0.7785\n",
            "=====\n",
            "Acquisition iteration 8 (40.00%), training size: 100\n",
            "100%|██████████| 50/50 [00:06<00:00,  7.62it/s, loss=0.0568]\n",
            "Accuracy = 0.7851\n",
            "=====\n",
            "Acquisition iteration 9 (45.00%), training size: 110\n",
            "100%|██████████| 50/50 [00:06<00:00,  7.74it/s, loss=0.168]\n",
            "Accuracy = 0.7823\n",
            "=====\n",
            "Acquisition iteration 10 (50.00%), training size: 120\n",
            "100%|██████████| 50/50 [00:06<00:00,  7.80it/s, loss=0.157]\n",
            "Accuracy = 0.7705\n",
            "=====\n",
            "Acquisition iteration 11 (55.00%), training size: 130\n",
            "100%|██████████| 50/50 [00:07<00:00,  6.72it/s, loss=0.881]\n",
            "Accuracy = 0.7084\n",
            "=====\n",
            "Acquisition iteration 12 (60.00%), training size: 140\n",
            "100%|██████████| 50/50 [00:07<00:00,  6.78it/s, loss=0.228]\n",
            "Accuracy = 0.8107\n",
            "=====\n",
            "Acquisition iteration 13 (65.00%), training size: 150\n",
            "100%|██████████| 50/50 [00:07<00:00,  6.90it/s, loss=0.176]\n",
            "Accuracy = 0.8136\n",
            "=====\n",
            "Acquisition iteration 14 (70.00%), training size: 160\n",
            "100%|██████████| 50/50 [00:07<00:00,  7.00it/s, loss=0.248]\n",
            "Accuracy = 0.7822\n",
            "=====\n",
            "Acquisition iteration 15 (75.00%), training size: 170\n",
            "100%|██████████| 50/50 [00:07<00:00,  6.85it/s, loss=0.33]\n",
            "Accuracy = 0.8036\n",
            "=====\n",
            "Acquisition iteration 16 (80.00%), training size: 180\n",
            "100%|██████████| 50/50 [00:07<00:00,  6.89it/s, loss=0.231]\n",
            "Accuracy = 0.7885\n",
            "=====\n",
            "Acquisition iteration 17 (85.00%), training size: 190\n",
            "100%|██████████| 50/50 [00:07<00:00,  6.79it/s, loss=0.216]\n",
            "Accuracy = 0.8206\n",
            "=====\n",
            "Acquisition iteration 18 (90.00%), training size: 200\n",
            "100%|██████████| 50/50 [00:07<00:00,  6.79it/s, loss=0.233]\n",
            "Accuracy = 0.8284\n",
            "=====\n",
            "Acquisition iteration 19 (95.00%), training size: 210\n",
            "100%|██████████| 50/50 [00:07<00:00,  6.79it/s, loss=0.139]\n",
            "Accuracy = 0.8462\n",
            "=====\n",
            "Acquisition iteration 20 (100.00%), training size: 220\n",
            "100%|██████████| 50/50 [00:07<00:00,  6.77it/s, loss=0.122]\n",
            "Accuracy = 0.8522\n",
            "=====\n"
          ],
          "name": "stdout"
        }
      ]
    },
    {
      "cell_type": "code",
      "metadata": {
        "id": "XSI_6AVpRA7l",
        "colab_type": "code",
        "colab": {
          "base_uri": "https://localhost:8080/",
          "height": 279
        },
        "outputId": "041e2b44-2c68-4eca-a02a-65cf97c7093e"
      },
      "source": [
        "%matplotlib inline\n",
        "import matplotlib.pyplot as plt\n",
        "\n",
        "plt.plot(list(history.keys()), list(history.values()))\n",
        "plt.xlabel(\"Total training points\")\n",
        "plt.ylabel(\"Accuracy\");"
      ],
      "execution_count": 18,
      "outputs": [
        {
          "output_type": "display_data",
          "data": {
            "image/png": "[encoded data removed]",
            "text/plain": [
              "<Figure size 432x288 with 1 Axes>"
            ]
          },
          "metadata": {
            "tags": []
          }
        }
      ]
    },
    {
      "cell_type": "code",
      "metadata": {
        "id": "QKAs7dJaReIY",
        "colab_type": "code",
        "colab": {
          "base_uri": "https://localhost:8080/",
          "height": 1000
        },
        "outputId": "7cfa2879-5fa9-4be6-c783-45b0cfe4753a"
      },
      "source": [
        "# this time, try random acqusition\n",
        "model.reset_weights()\n",
        "ra_history = run_experiment(model, RandomAcquisition(),\n",
        "                            X_train, y_train, X_pool, y_pool,\n",
        "                            test_data_loader, optimiser, b=10,\n",
        "                            iters=20, init_epochs=INITIAL_EPOCHS, epochs=EPOCHS,\n",
        "                            device=device, batch_size=128, **dl_params)"
      ],
      "execution_count": 19,
      "outputs": [
        {
          "output_type": "stream",
          "text": [
            "Commencing initial training with 20 points\n",
            "100%|██████████| 50/50 [00:06<00:00,  8.32it/s, loss=0.017]\n"
          ],
          "name": "stdout"
        },
        {
          "output_type": "stream",
          "text": [
            "/content/alr.py:163: UserWarning: Calling stochastic_forward but model is not in training mode. This may have unintended effects.\n",
            "  warnings.warn('Calling stochastic_forward but '\n"
          ],
          "name": "stderr"
        },
        {
          "output_type": "stream",
          "text": [
            "Accuracy = 0.5583\n",
            "=====\n",
            "Acquisition iteration 1 (5.00%), training size: 30\n",
            "100%|██████████| 50/50 [00:05<00:00,  8.35it/s, loss=0.0191]\n",
            "Accuracy = 0.6254\n",
            "=====\n",
            "Acquisition iteration 2 (10.00%), training size: 40\n",
            "100%|██████████| 50/50 [00:06<00:00,  7.93it/s, loss=0.0726]\n",
            "Accuracy = 0.6517\n",
            "=====\n",
            "Acquisition iteration 3 (15.00%), training size: 50\n",
            "100%|██████████| 50/50 [00:06<00:00,  7.86it/s, loss=0.0568]\n",
            "Accuracy = 0.6821\n",
            "=====\n",
            "Acquisition iteration 4 (20.00%), training size: 60\n",
            "100%|██████████| 50/50 [00:06<00:00,  7.74it/s, loss=0.0714]\n",
            "Accuracy = 0.6957\n",
            "=====\n",
            "Acquisition iteration 5 (25.00%), training size: 70\n",
            "100%|██████████| 50/50 [00:06<00:00,  7.87it/s, loss=0.102]\n",
            "Accuracy = 0.7046\n",
            "=====\n",
            "Acquisition iteration 6 (30.00%), training size: 80\n",
            "100%|██████████| 50/50 [00:06<00:00,  7.80it/s, loss=0.103]\n",
            "Accuracy = 0.7491\n",
            "=====\n",
            "Acquisition iteration 7 (35.00%), training size: 90\n",
            "100%|██████████| 50/50 [00:06<00:00,  7.78it/s, loss=0.102]\n",
            "Accuracy = 0.7625\n",
            "=====\n",
            "Acquisition iteration 8 (40.00%), training size: 100\n",
            "100%|██████████| 50/50 [00:06<00:00,  7.79it/s, loss=0.0987]\n",
            "Accuracy = 0.7715\n",
            "=====\n",
            "Acquisition iteration 9 (45.00%), training size: 110\n",
            "100%|██████████| 50/50 [00:06<00:00,  7.53it/s, loss=0.122]\n",
            "Accuracy = 0.7649\n",
            "=====\n",
            "Acquisition iteration 10 (50.00%), training size: 120\n",
            "100%|██████████| 50/50 [00:06<00:00,  7.69it/s, loss=0.0464]\n",
            "Accuracy = 0.7956\n",
            "=====\n",
            "Acquisition iteration 11 (55.00%), training size: 130\n",
            "100%|██████████| 50/50 [00:07<00:00,  6.90it/s, loss=0.311]\n",
            "Accuracy = 0.7768\n",
            "=====\n",
            "Acquisition iteration 12 (60.00%), training size: 140\n",
            "100%|██████████| 50/50 [00:07<00:00,  6.93it/s, loss=0.0808]\n",
            "Accuracy = 0.8192\n",
            "=====\n",
            "Acquisition iteration 13 (65.00%), training size: 150\n",
            "100%|██████████| 50/50 [00:07<00:00,  6.78it/s, loss=0.127]\n",
            "Accuracy = 0.8081\n",
            "=====\n",
            "Acquisition iteration 14 (70.00%), training size: 160\n",
            "100%|██████████| 50/50 [00:07<00:00,  6.85it/s, loss=0.108]\n",
            "Accuracy = 0.8221\n",
            "=====\n",
            "Acquisition iteration 15 (75.00%), training size: 170\n",
            "100%|██████████| 50/50 [00:07<00:00,  6.83it/s, loss=0.0721]\n",
            "Accuracy = 0.8271\n",
            "=====\n",
            "Acquisition iteration 16 (80.00%), training size: 180\n",
            "100%|██████████| 50/50 [00:07<00:00,  6.69it/s, loss=0.0511]\n",
            "Accuracy = 0.8345\n",
            "=====\n",
            "Acquisition iteration 17 (85.00%), training size: 190\n",
            "100%|██████████| 50/50 [00:07<00:00,  6.79it/s, loss=0.0383]\n",
            "Accuracy = 0.838\n",
            "=====\n",
            "Acquisition iteration 18 (90.00%), training size: 200\n",
            "100%|██████████| 50/50 [00:07<00:00,  6.73it/s, loss=0.0495]\n",
            "Accuracy = 0.8485\n",
            "=====\n",
            "Acquisition iteration 19 (95.00%), training size: 210\n",
            "100%|██████████| 50/50 [00:07<00:00,  6.55it/s, loss=0.0441]\n",
            "Accuracy = 0.8346\n",
            "=====\n",
            "Acquisition iteration 20 (100.00%), training size: 220\n",
            "100%|██████████| 50/50 [00:07<00:00,  6.64it/s, loss=0.0622]\n",
            "Accuracy = 0.822\n",
            "=====\n"
          ],
          "name": "stdout"
        }
      ]
    },
    {
      "cell_type": "code",
      "metadata": {
        "id": "UflY8EcQRt88",
        "colab_type": "code",
        "colab": {
          "base_uri": "https://localhost:8080/",
          "height": 295
        },
        "outputId": "e300ec13-31c6-4316-d109-d7d171707f92"
      },
      "source": [
        "plt.plot(list(history.keys()), list(history.values()), label='ICAL 10')\n",
        "plt.plot(list(ra_history.keys()), list(ra_history.values()), label='RA 10')\n",
        "plt.xlabel(\"Total training points\")\n",
        "plt.ylabel(\"Accuracy\")\n",
        "plt.legend()\n",
        "plt.title(\"ICAL vs RA\");"
      ],
      "execution_count": 20,
      "outputs": [
        {
          "output_type": "display_data",
          "data": {
            "image/png": "[encoded data removed]",
            "text/plain": [
              "<Figure size 432x288 with 1 Axes>"
            ]
          },
          "metadata": {
            "tags": []
          }
        }
      ]
    }
  ]
}